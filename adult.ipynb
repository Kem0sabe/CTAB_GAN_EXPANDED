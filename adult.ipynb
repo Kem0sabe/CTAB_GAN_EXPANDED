{
 "cells": [
  {
   "cell_type": "code",
   "execution_count": 1,
   "metadata": {},
   "outputs": [
    {
     "data": {
      "text/html": [
       "<div>\n",
       "<style scoped>\n",
       "    .dataframe tbody tr th:only-of-type {\n",
       "        vertical-align: middle;\n",
       "    }\n",
       "\n",
       "    .dataframe tbody tr th {\n",
       "        vertical-align: top;\n",
       "    }\n",
       "\n",
       "    .dataframe thead th {\n",
       "        text-align: right;\n",
       "    }\n",
       "</style>\n",
       "<table border=\"1\" class=\"dataframe\">\n",
       "  <thead>\n",
       "    <tr style=\"text-align: right;\">\n",
       "      <th></th>\n",
       "      <th>age</th>\n",
       "      <th>workclass</th>\n",
       "      <th>fnlwgt</th>\n",
       "      <th>education</th>\n",
       "    </tr>\n",
       "  </thead>\n",
       "  <tbody>\n",
       "    <tr>\n",
       "      <th>0</th>\n",
       "      <td>25</td>\n",
       "      <td>4</td>\n",
       "      <td>226802</td>\n",
       "      <td>1</td>\n",
       "    </tr>\n",
       "    <tr>\n",
       "      <th>1</th>\n",
       "      <td>38</td>\n",
       "      <td>4</td>\n",
       "      <td>89814</td>\n",
       "      <td>11</td>\n",
       "    </tr>\n",
       "    <tr>\n",
       "      <th>2</th>\n",
       "      <td>28</td>\n",
       "      <td>2</td>\n",
       "      <td>336951</td>\n",
       "      <td>7</td>\n",
       "    </tr>\n",
       "    <tr>\n",
       "      <th>3</th>\n",
       "      <td>44</td>\n",
       "      <td>4</td>\n",
       "      <td>160323</td>\n",
       "      <td>15</td>\n",
       "    </tr>\n",
       "    <tr>\n",
       "      <th>4</th>\n",
       "      <td>18</td>\n",
       "      <td>0</td>\n",
       "      <td>103497</td>\n",
       "      <td>15</td>\n",
       "    </tr>\n",
       "    <tr>\n",
       "      <th>...</th>\n",
       "      <td>...</td>\n",
       "      <td>...</td>\n",
       "      <td>...</td>\n",
       "      <td>...</td>\n",
       "    </tr>\n",
       "    <tr>\n",
       "      <th>995</th>\n",
       "      <td>17</td>\n",
       "      <td>4</td>\n",
       "      <td>28544</td>\n",
       "      <td>1</td>\n",
       "    </tr>\n",
       "    <tr>\n",
       "      <th>996</th>\n",
       "      <td>59</td>\n",
       "      <td>2</td>\n",
       "      <td>662460</td>\n",
       "      <td>0</td>\n",
       "    </tr>\n",
       "    <tr>\n",
       "      <th>997</th>\n",
       "      <td>22</td>\n",
       "      <td>4</td>\n",
       "      <td>152328</td>\n",
       "      <td>15</td>\n",
       "    </tr>\n",
       "    <tr>\n",
       "      <th>998</th>\n",
       "      <td>40</td>\n",
       "      <td>4</td>\n",
       "      <td>120277</td>\n",
       "      <td>9</td>\n",
       "    </tr>\n",
       "    <tr>\n",
       "      <th>999</th>\n",
       "      <td>36</td>\n",
       "      <td>4</td>\n",
       "      <td>180278</td>\n",
       "      <td>9</td>\n",
       "    </tr>\n",
       "  </tbody>\n",
       "</table>\n",
       "<p>1000 rows × 4 columns</p>\n",
       "</div>"
      ],
      "text/plain": [
       "     age  workclass  fnlwgt  education\n",
       "0     25          4  226802          1\n",
       "1     38          4   89814         11\n",
       "2     28          2  336951          7\n",
       "3     44          4  160323         15\n",
       "4     18          0  103497         15\n",
       "..   ...        ...     ...        ...\n",
       "995   17          4   28544          1\n",
       "996   59          2  662460          0\n",
       "997   22          4  152328         15\n",
       "998   40          4  120277          9\n",
       "999   36          4  180278          9\n",
       "\n",
       "[1000 rows x 4 columns]"
      ]
     },
     "execution_count": 1,
     "metadata": {},
     "output_type": "execute_result"
    }
   ],
   "source": [
    "import numpy as np\n",
    "import pandas as pd\n",
    "import glob\n",
    "from model.ctabgan import CTAB_XTRA_DP\n",
    "df = pd.read_csv(\"datasets/adult.csv\")\n",
    "#df = df.drop(columns=['Year','Model'])\n",
    "\n",
    "df = df.iloc[:, :4]\n",
    "#df.loc[:7, 'capital-gain'] = np.nan\n",
    "df = df.head(1000)\n",
    "df"
   ]
  },
  {
   "cell_type": "code",
   "execution_count": 2,
   "metadata": {},
   "outputs": [],
   "source": [
    "\n",
    "synthesizer =  CTAB_XTRA_DP(df,\n",
    "                 categorical_columns = [\"workclass\",\"education\"], \n",
    "                 log_columns = {}, # Fuck this log, task for tommorrow\n",
    "                 mixed_columns= {},\n",
    "                 general_columns = [],\n",
    "                 truncated_gaussian_columns=[\"age\"],\n",
    "                 integer_columns = [],\n",
    "                 dp_constraints = {\n",
    "                    \"epsilon_budget\": None,\n",
    "                    \"clip_coeff\": None\n",
    "                 }\n",
    "                 ) "
   ]
  },
  {
   "cell_type": "code",
   "execution_count": 3,
   "metadata": {},
   "outputs": [
    {
     "name": "stdout",
     "output_type": "stream",
     "text": [
      "Start training with 50 epochs\n",
      " 5 critic iterations\n",
      " 2 steps per epoch\n",
      " batch size 500\n"
     ]
    },
    {
     "name": "stderr",
     "output_type": "stream",
     "text": [
      "100%|██████████| 50/50 [01:01<00:00,  1.23s/it]\n"
     ]
    }
   ],
   "source": [
    "synthesizer.fit(50)"
   ]
  },
  {
   "cell_type": "code",
   "execution_count": 4,
   "metadata": {},
   "outputs": [
    {
     "data": {
      "text/html": [
       "<div>\n",
       "<style scoped>\n",
       "    .dataframe tbody tr th:only-of-type {\n",
       "        vertical-align: middle;\n",
       "    }\n",
       "\n",
       "    .dataframe tbody tr th {\n",
       "        vertical-align: top;\n",
       "    }\n",
       "\n",
       "    .dataframe thead th {\n",
       "        text-align: right;\n",
       "    }\n",
       "</style>\n",
       "<table border=\"1\" class=\"dataframe\">\n",
       "  <thead>\n",
       "    <tr style=\"text-align: right;\">\n",
       "      <th></th>\n",
       "      <th>age</th>\n",
       "      <th>workclass</th>\n",
       "      <th>fnlwgt</th>\n",
       "      <th>education</th>\n",
       "    </tr>\n",
       "  </thead>\n",
       "  <tbody>\n",
       "    <tr>\n",
       "      <th>count</th>\n",
       "      <td>1000.00000</td>\n",
       "      <td>1000.00000</td>\n",
       "      <td>1000.000000</td>\n",
       "      <td>1000.00000</td>\n",
       "    </tr>\n",
       "    <tr>\n",
       "      <th>mean</th>\n",
       "      <td>37.96100</td>\n",
       "      <td>3.92600</td>\n",
       "      <td>187149.619000</td>\n",
       "      <td>9.76700</td>\n",
       "    </tr>\n",
       "    <tr>\n",
       "      <th>std</th>\n",
       "      <td>11.38284</td>\n",
       "      <td>1.77586</td>\n",
       "      <td>106358.780283</td>\n",
       "      <td>4.11967</td>\n",
       "    </tr>\n",
       "    <tr>\n",
       "      <th>min</th>\n",
       "      <td>18.00000</td>\n",
       "      <td>0.00000</td>\n",
       "      <td>-13552.000000</td>\n",
       "      <td>0.00000</td>\n",
       "    </tr>\n",
       "    <tr>\n",
       "      <th>25%</th>\n",
       "      <td>28.75000</td>\n",
       "      <td>4.00000</td>\n",
       "      <td>115020.500000</td>\n",
       "      <td>9.00000</td>\n",
       "    </tr>\n",
       "    <tr>\n",
       "      <th>50%</th>\n",
       "      <td>36.00000</td>\n",
       "      <td>4.00000</td>\n",
       "      <td>173616.500000</td>\n",
       "      <td>11.00000</td>\n",
       "    </tr>\n",
       "    <tr>\n",
       "      <th>75%</th>\n",
       "      <td>47.00000</td>\n",
       "      <td>5.00000</td>\n",
       "      <td>234270.500000</td>\n",
       "      <td>12.00000</td>\n",
       "    </tr>\n",
       "    <tr>\n",
       "      <th>max</th>\n",
       "      <td>70.00000</td>\n",
       "      <td>7.00000</td>\n",
       "      <td>671219.000000</td>\n",
       "      <td>15.00000</td>\n",
       "    </tr>\n",
       "  </tbody>\n",
       "</table>\n",
       "</div>"
      ],
      "text/plain": [
       "              age   workclass         fnlwgt   education\n",
       "count  1000.00000  1000.00000    1000.000000  1000.00000\n",
       "mean     37.96100     3.92600  187149.619000     9.76700\n",
       "std      11.38284     1.77586  106358.780283     4.11967\n",
       "min      18.00000     0.00000  -13552.000000     0.00000\n",
       "25%      28.75000     4.00000  115020.500000     9.00000\n",
       "50%      36.00000     4.00000  173616.500000    11.00000\n",
       "75%      47.00000     5.00000  234270.500000    12.00000\n",
       "max      70.00000     7.00000  671219.000000    15.00000"
      ]
     },
     "execution_count": 4,
     "metadata": {},
     "output_type": "execute_result"
    }
   ],
   "source": [
    "syn = synthesizer.generate_samples(1000)\n",
    "syn.head(100)\n",
    "syn.describe()\n"
   ]
  },
  {
   "cell_type": "code",
   "execution_count": 5,
   "metadata": {},
   "outputs": [
    {
     "data": {
      "text/html": [
       "<div>\n",
       "<style scoped>\n",
       "    .dataframe tbody tr th:only-of-type {\n",
       "        vertical-align: middle;\n",
       "    }\n",
       "\n",
       "    .dataframe tbody tr th {\n",
       "        vertical-align: top;\n",
       "    }\n",
       "\n",
       "    .dataframe thead th {\n",
       "        text-align: right;\n",
       "    }\n",
       "</style>\n",
       "<table border=\"1\" class=\"dataframe\">\n",
       "  <thead>\n",
       "    <tr style=\"text-align: right;\">\n",
       "      <th></th>\n",
       "      <th>age</th>\n",
       "      <th>workclass</th>\n",
       "      <th>fnlwgt</th>\n",
       "      <th>education</th>\n",
       "    </tr>\n",
       "  </thead>\n",
       "  <tbody>\n",
       "    <tr>\n",
       "      <th>count</th>\n",
       "      <td>1000.000000</td>\n",
       "      <td>1000.000000</td>\n",
       "      <td>1000.000000</td>\n",
       "      <td>1000.000000</td>\n",
       "    </tr>\n",
       "    <tr>\n",
       "      <th>mean</th>\n",
       "      <td>38.088000</td>\n",
       "      <td>3.887000</td>\n",
       "      <td>185524.965000</td>\n",
       "      <td>10.228000</td>\n",
       "    </tr>\n",
       "    <tr>\n",
       "      <th>std</th>\n",
       "      <td>13.712195</td>\n",
       "      <td>1.506154</td>\n",
       "      <td>100130.729371</td>\n",
       "      <td>3.958495</td>\n",
       "    </tr>\n",
       "    <tr>\n",
       "      <th>min</th>\n",
       "      <td>17.000000</td>\n",
       "      <td>0.000000</td>\n",
       "      <td>20308.000000</td>\n",
       "      <td>0.000000</td>\n",
       "    </tr>\n",
       "    <tr>\n",
       "      <th>25%</th>\n",
       "      <td>26.000000</td>\n",
       "      <td>4.000000</td>\n",
       "      <td>113226.000000</td>\n",
       "      <td>9.000000</td>\n",
       "    </tr>\n",
       "    <tr>\n",
       "      <th>50%</th>\n",
       "      <td>36.500000</td>\n",
       "      <td>4.000000</td>\n",
       "      <td>177493.000000</td>\n",
       "      <td>11.000000</td>\n",
       "    </tr>\n",
       "    <tr>\n",
       "      <th>75%</th>\n",
       "      <td>47.000000</td>\n",
       "      <td>4.000000</td>\n",
       "      <td>236861.000000</td>\n",
       "      <td>12.000000</td>\n",
       "    </tr>\n",
       "    <tr>\n",
       "      <th>max</th>\n",
       "      <td>90.000000</td>\n",
       "      <td>7.000000</td>\n",
       "      <td>662460.000000</td>\n",
       "      <td>15.000000</td>\n",
       "    </tr>\n",
       "  </tbody>\n",
       "</table>\n",
       "</div>"
      ],
      "text/plain": [
       "               age    workclass         fnlwgt    education\n",
       "count  1000.000000  1000.000000    1000.000000  1000.000000\n",
       "mean     38.088000     3.887000  185524.965000    10.228000\n",
       "std      13.712195     1.506154  100130.729371     3.958495\n",
       "min      17.000000     0.000000   20308.000000     0.000000\n",
       "25%      26.000000     4.000000  113226.000000     9.000000\n",
       "50%      36.500000     4.000000  177493.000000    11.000000\n",
       "75%      47.000000     4.000000  236861.000000    12.000000\n",
       "max      90.000000     7.000000  662460.000000    15.000000"
      ]
     },
     "execution_count": 5,
     "metadata": {},
     "output_type": "execute_result"
    }
   ],
   "source": [
    "df.describe()"
   ]
  },
  {
   "cell_type": "code",
   "execution_count": 6,
   "metadata": {},
   "outputs": [
    {
     "data": {
      "image/png": "[encoded data removed]",
      "text/plain": [
       "<Figure size 1200x1200 with 4 Axes>"
      ]
     },
     "metadata": {},
     "output_type": "display_data"
    }
   ],
   "source": [
    "import matplotlib.pyplot as plt\n",
    "\n",
    "# Create subplots dynamically based on the number of columns\n",
    "num_cols = len(df.columns)\n",
    "num_rows = (num_cols + 1) // 2  # Ensure enough rows for the number of columns\n",
    "\n",
    "fig, axes = plt.subplots(nrows=num_rows, ncols=2, figsize=(12, 12))\n",
    "\n",
    "# Flatten axes into a 1D array for easier indexing\n",
    "axes = axes.ravel()\n",
    "\n",
    "for i, column in enumerate(df.columns):\n",
    "    df[column].plot(kind='hist', ax=axes[i], title=f'{column} - df', bins=30, alpha=0.7)\n",
    "    syn[column].plot(kind='hist', ax=axes[i], title=f'{column} - syn', bins=30, alpha=0.7)\n",
    "\n",
    "plt.tight_layout()\n",
    "plt.show()\n",
    "\n"
   ]
  },
  {
   "cell_type": "code",
   "execution_count": 7,
   "metadata": {},
   "outputs": [
    {
     "name": "stdout",
     "output_type": "stream",
     "text": [
      "column:  age WD:  0.022452054794520546\n",
      "column:  workclass JSD:  0.13142472152061696\n",
      "column:  fnlwgt WD:  0.009251167947775606\n",
      "column:  education WD:  0.030733333333333328\n"
     ]
    },
    {
     "data": {
      "text/plain": [
       "[np.float64(0.02081218535854316),\n",
       " np.float64(0.13142472152061696),\n",
       " np.float64(0.2496007792508759)]"
      ]
     },
     "execution_count": 7,
     "metadata": {},
     "output_type": "execute_result"
    }
   ],
   "source": [
    "\n",
    "from model.eval.evaluation import stat_sim\n",
    "\n",
    "stat_sim(df,syn, [\"workclass\"])\n"
   ]
  },
  {
   "cell_type": "code",
   "execution_count": 8,
   "metadata": {},
   "outputs": [
    {
     "name": "stdout",
     "output_type": "stream",
     "text": [
      "==== Privacy Metrics Analysis ====\n",
      "Using 15% of data for analysis\n",
      "Real data sample size: 150\n",
      "Fake data sample size: 150\n",
      "\n",
      "Calculating pairwise distances...\n",
      "\n",
      "== Nearest Neighbor Ratio Metrics (5th percentile) ==\n",
      "Real-to-Real NN Ratio (5th): 0.2075\n",
      "Fake-to-Fake NN Ratio (5th): 0.2721\n",
      "Real-to-Fake NN Ratio (5th): 0.3394\n",
      "\n",
      "== Minimum Distance Metrics (5th percentile) ==\n",
      "Real-to-Fake Min Distance (5th): 0.0069\n",
      "Real-to-Real Min Distance (5th): 0.0044\n",
      "Fake-to-Fake Min Distance (5th): 0.0110\n",
      "\n",
      "Privacy Risk Score: 0.8930\n",
      "(Higher score indicates better privacy protection)\n",
      "\n",
      "==== Summary Interpretation ====\n",
      "⚠ Synthetic records may be too similar to real data\n",
      "✓ Good neighbor distance ratios\n"
     ]
    },
    {
     "data": {
      "text/plain": [
       "{'nn_ratio_rr_5th': np.float64(0.20752493501166897),\n",
       " 'nn_ratio_ff_5th': np.float64(0.2720886410292328),\n",
       " 'nn_ratio_rf_5th': np.float64(0.3393725371352108),\n",
       " 'min_dist_rf_5th': np.float64(0.006858773532397353),\n",
       " 'min_dist_rr_5th': np.float64(0.004381354322202362),\n",
       " 'min_dist_ff_5th': np.float64(0.010980441864812835),\n",
       " 'privacy_risk_score': np.float64(0.8929650476934256),\n",
       " 'metrics_array': array([[0.00685877, 0.00438135, 0.01098044, 0.33937254, 0.20752494,\n",
       "         0.27208864]])}"
      ]
     },
     "execution_count": 8,
     "metadata": {},
     "output_type": "execute_result"
    }
   ],
   "source": [
    "from model.eval.evaluation import privacy_metrics\n",
    "privacy_metrics(df,syn)"
   ]
  }
 ],
 "metadata": {
  "kernelspec": {
   "display_name": "Python 3",
   "language": "python",
   "name": "python3"
  },
  "language_info": {
   "codemirror_mode": {
    "name": "ipython",
    "version": 3
   },
   "file_extension": ".py",
   "mimetype": "text/x-python",
   "name": "python",
   "nbconvert_exporter": "python",
   "pygments_lexer": "ipython3",
   "version": "3.12.8"
  }
 },
 "nbformat": 4,
 "nbformat_minor": 2
}

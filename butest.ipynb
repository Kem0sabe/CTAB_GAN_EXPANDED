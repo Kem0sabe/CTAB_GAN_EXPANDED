{
 "cells": [
  {
   "cell_type": "code",
   "execution_count": 2,
   "id": "64d702c2",
   "metadata": {},
   "outputs": [],
   "source": [
    "import numpy as np\n",
    "import pandas as pd\n",
    "\n",
    "df = pd.read_csv(\"datasets/car.csv\")\n",
    "df = df.drop(columns=['Year','Model'])"
   ]
  },
  {
   "cell_type": "code",
   "execution_count": 3,
   "id": "254a0440",
   "metadata": {},
   "outputs": [],
   "source": [
    "\n",
    "#df.iloc[0, 1] = np.nan\n",
    "df = df[['Brand', 'Engine_Size', 'Mileage']]\n",
    "df = df.head(1000)"
   ]
  },
  {
   "cell_type": "code",
   "execution_count": null,
   "id": "96bcf02d",
   "metadata": {},
   "outputs": [
    {
     "ename": "NameError",
     "evalue": "name 'real' is not defined",
     "output_type": "error",
     "traceback": [
      "\u001b[1;31m---------------------------------------------------------------------------\u001b[0m",
      "\u001b[1;31mNameError\u001b[0m                                 Traceback (most recent call last)",
      "Cell \u001b[1;32mIn[5], line 2\u001b[0m\n\u001b[0;32m      1\u001b[0m target \u001b[38;5;241m=\u001b[39m \u001b[38;5;124m\"\u001b[39m\u001b[38;5;124mMileage\u001b[39m\u001b[38;5;124m\"\u001b[39m\n\u001b[1;32m----> 2\u001b[0m data_real_y \u001b[38;5;241m=\u001b[39m \u001b[43mreal\u001b[49m\u001b[38;5;241m.\u001b[39mloc[:, target]\u001b[38;5;241m.\u001b[39mto_numpy()\n\u001b[0;32m      3\u001b[0m data_real_X \u001b[38;5;241m=\u001b[39m real\u001b[38;5;241m.\u001b[39mdrop(target,axis\u001b[38;5;241m=\u001b[39m\u001b[38;5;241m1\u001b[39m)\u001b[38;5;241m.\u001b[39mto_numpy()\n\u001b[0;32m      4\u001b[0m X_train_real, X_test_real, y_train_real, y_test_real \u001b[38;5;241m=\u001b[39m model_selection\u001b[38;5;241m.\u001b[39mtrain_test_split(data_real_X ,data_real_y, test_size\u001b[38;5;241m=\u001b[39mtest_ratio,random_state\u001b[38;5;241m=\u001b[39m\u001b[38;5;241m42\u001b[39m) \n",
      "\u001b[1;31mNameError\u001b[0m: name 'real' is not defined"
     ]
    }
   ],
   "source": [
    "from sklearn.preprocessing import LabelEncoder\n",
    "target = \"Mileage\"\n",
    "categorical = ['Brand']\n",
    "\n",
    "for col in categorical:\n",
    "      label_encoder = LabelEncoder()\n",
    "      real[col] = label_encoder.fit_transform(real[col])\n",
    "\n",
    "\n",
    "data_real_y = real.loc[:, target].to_numpy()\n",
    "data_real_X = real.drop(target,axis=1).to_numpy()\n",
    "X_train_real, X_test_real, y_train_real, y_test_real = model_selection.train_test_split(data_real_X ,data_real_y, test_size=test_ratio,random_state=42) "
   ]
  },
  {
   "cell_type": "code",
   "execution_count": null,
   "id": "5300d267",
   "metadata": {},
   "outputs": [],
   "source": [
    "from sklearn.ensemble import RandomForestRegressor\n",
    "\n",
    "\n",
    "model = RandomForestRegressor(random_state=42)\n"
   ]
  }
 ],
 "metadata": {
  "kernelspec": {
   "display_name": "Python 3",
   "language": "python",
   "name": "python3"
  },
  "language_info": {
   "codemirror_mode": {
    "name": "ipython",
    "version": 3
   },
   "file_extension": ".py",
   "mimetype": "text/x-python",
   "name": "python",
   "nbconvert_exporter": "python",
   "pygments_lexer": "ipython3",
   "version": "3.12.8"
  }
 },
 "nbformat": 4,
 "nbformat_minor": 5
}

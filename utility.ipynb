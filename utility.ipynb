{
 "cells": [
  {
   "cell_type": "code",
   "execution_count": 16,
   "metadata": {},
   "outputs": [],
   "source": [
    "import numpy as np\n",
    "import pandas as pd\n",
    "import glob\n",
    "\n",
    "df = pd.read_csv(\"datasets/car.csv\")\n",
    "df = df.drop(columns=['Year','Model','Brand'])\n"
   ]
  },
  {
   "cell_type": "code",
   "execution_count": 17,
   "metadata": {},
   "outputs": [],
   "source": [
    "import numpy as np\n",
    "\n",
    "\n",
    "df.loc[np.random.choice(df.index, size=10, replace=False), 'Engine_Size'] = np.nan\n",
    "\n",
    "df.loc[np.random.choice(df.index, size=10, replace=False), 'Engine_Size'] = \"Big\"\n",
    "\n",
    "df.loc[0, 'Engine_Size'] = \"Big\"\n",
    "\n",
    "#df.loc[np.random.choice(df.index, size=5, replace=False), 'Doors'] = np.nan\n",
    "\n"
   ]
  },
  {
   "cell_type": "code",
   "execution_count": null,
   "metadata": {},
   "outputs": [
    {
     "data": {
      "text/html": [
       "<div>\n",
       "<style scoped>\n",
       "    .dataframe tbody tr th:only-of-type {\n",
       "        vertical-align: middle;\n",
       "    }\n",
       "\n",
       "    .dataframe tbody tr th {\n",
       "        vertical-align: top;\n",
       "    }\n",
       "\n",
       "    .dataframe thead th {\n",
       "        text-align: right;\n",
       "    }\n",
       "</style>\n",
       "<table border=\"1\" class=\"dataframe\">\n",
       "  <thead>\n",
       "    <tr style=\"text-align: right;\">\n",
       "      <th></th>\n",
       "      <th>Engine_Size</th>\n",
       "      <th>Fuel_Type</th>\n",
       "      <th>Transmission</th>\n",
       "      <th>Mileage</th>\n",
       "      <th>Doors</th>\n",
       "      <th>Owner_Count</th>\n",
       "      <th>Price</th>\n",
       "    </tr>\n",
       "  </thead>\n",
       "  <tbody>\n",
       "    <tr>\n",
       "      <th>0</th>\n",
       "      <td>Big</td>\n",
       "      <td>Diesel</td>\n",
       "      <td>Manual</td>\n",
       "      <td>289944</td>\n",
       "      <td>3</td>\n",
       "      <td>5</td>\n",
       "      <td>8501</td>\n",
       "    </tr>\n",
       "    <tr>\n",
       "      <th>1</th>\n",
       "      <td>2.0</td>\n",
       "      <td>Hybrid</td>\n",
       "      <td>Automatic</td>\n",
       "      <td>5356</td>\n",
       "      <td>2</td>\n",
       "      <td>3</td>\n",
       "      <td>12092</td>\n",
       "    </tr>\n",
       "    <tr>\n",
       "      <th>2</th>\n",
       "      <td>4.2</td>\n",
       "      <td>Diesel</td>\n",
       "      <td>Automatic</td>\n",
       "      <td>231440</td>\n",
       "      <td>4</td>\n",
       "      <td>2</td>\n",
       "      <td>11171</td>\n",
       "    </tr>\n",
       "    <tr>\n",
       "      <th>3</th>\n",
       "      <td>2.0</td>\n",
       "      <td>Electric</td>\n",
       "      <td>Manual</td>\n",
       "      <td>160971</td>\n",
       "      <td>2</td>\n",
       "      <td>1</td>\n",
       "      <td>11780</td>\n",
       "    </tr>\n",
       "    <tr>\n",
       "      <th>4</th>\n",
       "      <td>2.6</td>\n",
       "      <td>Hybrid</td>\n",
       "      <td>Semi-Automatic</td>\n",
       "      <td>286618</td>\n",
       "      <td>3</td>\n",
       "      <td>3</td>\n",
       "      <td>2867</td>\n",
       "    </tr>\n",
       "    <tr>\n",
       "      <th>...</th>\n",
       "      <td>...</td>\n",
       "      <td>...</td>\n",
       "      <td>...</td>\n",
       "      <td>...</td>\n",
       "      <td>...</td>\n",
       "      <td>...</td>\n",
       "      <td>...</td>\n",
       "    </tr>\n",
       "    <tr>\n",
       "      <th>4995</th>\n",
       "      <td>1.0</td>\n",
       "      <td>Diesel</td>\n",
       "      <td>Manual</td>\n",
       "      <td>152865</td>\n",
       "      <td>5</td>\n",
       "      <td>5</td>\n",
       "      <td>6842</td>\n",
       "    </tr>\n",
       "    <tr>\n",
       "      <th>4996</th>\n",
       "      <td>3.6</td>\n",
       "      <td>Hybrid</td>\n",
       "      <td>Automatic</td>\n",
       "      <td>2810</td>\n",
       "      <td>5</td>\n",
       "      <td>3</td>\n",
       "      <td>11343</td>\n",
       "    </tr>\n",
       "    <tr>\n",
       "      <th>4997</th>\n",
       "      <td>2.0</td>\n",
       "      <td>Hybrid</td>\n",
       "      <td>Automatic</td>\n",
       "      <td>212019</td>\n",
       "      <td>5</td>\n",
       "      <td>1</td>\n",
       "      <td>7359</td>\n",
       "    </tr>\n",
       "    <tr>\n",
       "      <th>4998</th>\n",
       "      <td>1.2</td>\n",
       "      <td>Petrol</td>\n",
       "      <td>Manual</td>\n",
       "      <td>165992</td>\n",
       "      <td>4</td>\n",
       "      <td>2</td>\n",
       "      <td>4680</td>\n",
       "    </tr>\n",
       "    <tr>\n",
       "      <th>4999</th>\n",
       "      <td>4.5</td>\n",
       "      <td>Diesel</td>\n",
       "      <td>Semi-Automatic</td>\n",
       "      <td>112693</td>\n",
       "      <td>4</td>\n",
       "      <td>3</td>\n",
       "      <td>9946</td>\n",
       "    </tr>\n",
       "  </tbody>\n",
       "</table>\n",
       "<p>5000 rows × 7 columns</p>\n",
       "</div>"
      ],
      "text/plain": [
       "     Engine_Size Fuel_Type    Transmission  Mileage  Doors  Owner_Count  Price\n",
       "0            Big    Diesel          Manual   289944      3            5   8501\n",
       "1            2.0    Hybrid       Automatic     5356      2            3  12092\n",
       "2            4.2    Diesel       Automatic   231440      4            2  11171\n",
       "3            2.0  Electric          Manual   160971      2            1  11780\n",
       "4            2.6    Hybrid  Semi-Automatic   286618      3            3   2867\n",
       "...          ...       ...             ...      ...    ...          ...    ...\n",
       "4995         1.0    Diesel          Manual   152865      5            5   6842\n",
       "4996         3.6    Hybrid       Automatic     2810      5            3  11343\n",
       "4997         2.0    Hybrid       Automatic   212019      5            1   7359\n",
       "4998         1.2    Petrol          Manual   165992      4            2   4680\n",
       "4999         4.5    Diesel  Semi-Automatic   112693      4            3   9946\n",
       "\n",
       "[5000 rows x 7 columns]"
      ]
     },
     "execution_count": 19,
     "metadata": {},
     "output_type": "execute_result"
    }
   ],
   "source": [
    "\n",
    "\n",
    "dfa = df[:len(df) // 2]\n",
    "dfb = df[len(df) // 2:]\n",
    "\n",
    "x_train = dfa.drop(columns=['Price'])\n",
    "y_train = dfa['Price']\n",
    "\n",
    "x_test = dfb.drop(columns=['Price'])\n",
    "y_test = dfb['Price']\n",
    "\n",
    "\n",
    "dfa"
   ]
  },
  {
   "cell_type": "markdown",
   "metadata": {},
   "source": []
  },
  {
   "cell_type": "code",
   "execution_count": 22,
   "metadata": {},
   "outputs": [],
   "source": [
    "from model.eval.evaluation import get_summary_metrics\n",
    "utility, similarity, privacy = get_summary_metrics(dfa,dfb,categorical=['Fuel_Type', 'Transmission'], mixed={\"Engine_Size\":[\"Big\"]},problem=\"regression\")"
   ]
  },
  {
   "cell_type": "code",
   "execution_count": 23,
   "metadata": {},
   "outputs": [
    {
     "name": "stdout",
     "output_type": "stream",
     "text": [
      "         MAPE  Explained Variance  R2 Score\n",
      "dt   0.332670            0.045169  0.045112\n",
      "rf   0.256190            0.503443  0.503439\n",
      "hgb  0.247216            0.528422  0.528405\n",
      "cat  0.244515            0.533524  0.533518\n",
      "xgb  0.261652            0.445395  0.445392\n",
      "         MAPE  Explained Variance  R2 Score\n",
      "dt   0.328137            0.055950  0.055920\n",
      "rf   0.255371            0.503195  0.502354\n",
      "hgb  0.248665            0.519944  0.519457\n",
      "cat  0.247546            0.522004  0.521576\n",
      "xgb  0.263848            0.457331  0.455596\n"
     ]
    }
   ],
   "source": [
    "utility_real = utility[0]\n",
    "utility_fake = utility[1][0]\n",
    "print(utility_real)\n",
    "print(utility_fake)"
   ]
  },
  {
   "cell_type": "code",
   "execution_count": 24,
   "metadata": {},
   "outputs": [
    {
     "name": "stdout",
     "output_type": "stream",
     "text": [
      "  Metric  Weighted_Avg      Mean       Std\n",
      "0    JSD      0.008350  0.008350  0.002240\n",
      "1     WD      0.005457  0.005457  0.002711\n",
      "\n",
      "\n",
      "                    Column Metric  Distance  Weight\n",
      "0                Fuel_Type    JSD  0.010416   1.000\n",
      "1             Transmission    JSD  0.008666   1.000\n",
      "2                  Mileage     WD  0.003866   1.000\n",
      "3                    Doors     WD  0.009933   1.000\n",
      "4              Owner_Count     WD  0.004850   1.000\n",
      "5                    Price     WD  0.002930   1.000\n",
      "6  Engine_Size_categorical    JSD  0.005969   1.000\n",
      "7   Engine_Size_continuous     WD  0.005706   0.998\n",
      "\n",
      "\n",
      "Difference in correlation: 0.008810499361421854\n"
     ]
    }
   ],
   "source": [
    "summary, column_similarity, corr = similarity\n",
    "\n",
    "print(summary)\n",
    "print(\"\\n\")\n",
    "print(column_similarity)\n",
    "print(\"\\n\")\n",
    "print(\"Difference in correlation:\",corr)"
   ]
  },
  {
   "cell_type": "code",
   "execution_count": 25,
   "metadata": {},
   "outputs": [],
   "source": [
    "percentiles, nnaa, privacy_score = privacy"
   ]
  },
  {
   "cell_type": "code",
   "execution_count": 26,
   "metadata": {},
   "outputs": [
    {
     "name": "stdout",
     "output_type": "stream",
     "text": [
      "                rr        ff        rf\n",
      "nndr_5th  0.356189  0.339601  0.370971\n",
      "dcr_5th   0.025747  0.025656  0.027126\n",
      "\n",
      "\n",
      "0.49133333333333334\n",
      "\n",
      "\n",
      "Privacy score: 1.0553995130423997\n"
     ]
    }
   ],
   "source": [
    "print(percentiles)\n",
    "print(\"\\n\")\n",
    "print(nnaa)\n",
    "print(\"\\n\")\n",
    "print(\"Privacy score:\",privacy_score)"
   ]
  }
 ],
 "metadata": {
  "kernelspec": {
   "display_name": "Python 3",
   "language": "python",
   "name": "python3"
  },
  "language_info": {
   "codemirror_mode": {
    "name": "ipython",
    "version": 3
   },
   "file_extension": ".py",
   "mimetype": "text/x-python",
   "name": "python",
   "nbconvert_exporter": "python",
   "pygments_lexer": "ipython3",
   "version": "3.12.8"
  }
 },
 "nbformat": 4,
 "nbformat_minor": 2
}

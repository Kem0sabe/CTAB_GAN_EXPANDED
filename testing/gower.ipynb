{
 "cells": [
  {
   "cell_type": "code",
   "execution_count": 1,
   "metadata": {},
   "outputs": [
    {
     "name": "stderr",
     "output_type": "stream",
     "text": [
      "WARNING: Ignoring invalid distribution ~ (C:\\Users\\marti\\AppData\\Local\\Programs\\Python\\Python312\\Lib\\site-packages)\n",
      "WARNING: Ignoring invalid distribution ~tab-xtra-dp (C:\\Users\\marti\\AppData\\Local\\Programs\\Python\\Python312\\Lib\\site-packages)\n",
      "WARNING: Ignoring invalid distribution ~ (C:\\Users\\marti\\AppData\\Local\\Programs\\Python\\Python312\\Lib\\site-packages)\n",
      "WARNING: Ignoring invalid distribution ~tab-xtra-dp (C:\\Users\\marti\\AppData\\Local\\Programs\\Python\\Python312\\Lib\\site-packages)\n",
      "WARNING: Ignoring invalid distribution ~ (C:\\Users\\marti\\AppData\\Local\\Programs\\Python\\Python312\\Lib\\site-packages)\n",
      "WARNING: Ignoring invalid distribution ~tab-xtra-dp (C:\\Users\\marti\\AppData\\Local\\Programs\\Python\\Python312\\Lib\\site-packages)\n"
     ]
    },
    {
     "name": "stdout",
     "output_type": "stream",
     "text": [
      "Requirement already satisfied: gower in c:\\users\\marti\\appdata\\local\\programs\\python\\python312\\lib\\site-packages (0.1.2)\n",
      "Requirement already satisfied: numpy in c:\\users\\marti\\appdata\\local\\programs\\python\\python312\\lib\\site-packages (from gower) (2.1.3)\n",
      "Requirement already satisfied: scipy in c:\\users\\marti\\appdata\\local\\programs\\python\\python312\\lib\\site-packages (from gower) (1.15.1)\n"
     ]
    }
   ],
   "source": [
    "!pip install gower\n",
    "\n",
    "from scipy.sparse import issparse\n",
    "import numpy as np\n",
    "import pandas as pd"
   ]
  },
  {
   "cell_type": "code",
   "execution_count": null,
   "metadata": {},
   "outputs": [
    {
     "name": "stdout",
     "output_type": "stream",
     "text": [
      "DataFrame 1:\n",
      "        col1        col2 cat1\n",
      "0 -37.545988  280.543233    A\n",
      "1  20.071431  276.016093    A\n",
      "2  -1.800606  215.389990    B\n",
      "3 -15.134152  214.924947    A\n",
      "4 -59.398136  226.817437    C\n",
      "\n",
      "DataFrame 2:\n",
      "        col1        col2 cat1\n",
      "0 -39.686221  295.700692    A\n",
      "1  20.018071  279.306172    C\n",
      "2 -17.151764  239.831037    B\n",
      "3 -38.422848  298.239505    C\n",
      "4  19.960215  234.553575    A\n"
     ]
    },
    {
     "data": {
      "text/html": [
       "<div>\n",
       "<style scoped>\n",
       "    .dataframe tbody tr th:only-of-type {\n",
       "        vertical-align: middle;\n",
       "    }\n",
       "\n",
       "    .dataframe tbody tr th {\n",
       "        vertical-align: top;\n",
       "    }\n",
       "\n",
       "    .dataframe thead th {\n",
       "        text-align: right;\n",
       "    }\n",
       "</style>\n",
       "<table border=\"1\" class=\"dataframe\">\n",
       "  <thead>\n",
       "    <tr style=\"text-align: right;\">\n",
       "      <th></th>\n",
       "      <th>col1</th>\n",
       "      <th>col2</th>\n",
       "      <th>cat1</th>\n",
       "    </tr>\n",
       "  </thead>\n",
       "  <tbody>\n",
       "    <tr>\n",
       "      <th>40</th>\n",
       "      <td>-62.796177</td>\n",
       "      <td>228.943952</td>\n",
       "      <td>C</td>\n",
       "    </tr>\n",
       "    <tr>\n",
       "      <th>41</th>\n",
       "      <td>-25.482309</td>\n",
       "      <td>246.768121</td>\n",
       "      <td>B</td>\n",
       "    </tr>\n",
       "    <tr>\n",
       "      <th>42</th>\n",
       "      <td>-71.561148</td>\n",
       "      <td>261.938997</td>\n",
       "      <td>A</td>\n",
       "    </tr>\n",
       "    <tr>\n",
       "      <th>43</th>\n",
       "      <td>15.932040</td>\n",
       "      <td>241.119048</td>\n",
       "      <td>A</td>\n",
       "    </tr>\n",
       "    <tr>\n",
       "      <th>44</th>\n",
       "      <td>-49.122002</td>\n",
       "      <td>242.748645</td>\n",
       "      <td>A</td>\n",
       "    </tr>\n",
       "    <tr>\n",
       "      <th>45</th>\n",
       "      <td>-8.747772</td>\n",
       "      <td>233.028467</td>\n",
       "      <td>C</td>\n",
       "    </tr>\n",
       "    <tr>\n",
       "      <th>46</th>\n",
       "      <td>-43.828892</td>\n",
       "      <td>256.423182</td>\n",
       "      <td>A</td>\n",
       "    </tr>\n",
       "    <tr>\n",
       "      <th>47</th>\n",
       "      <td>-22.993198</td>\n",
       "      <td>285.057453</td>\n",
       "      <td>B</td>\n",
       "    </tr>\n",
       "    <tr>\n",
       "      <th>48</th>\n",
       "      <td>-20.328972</td>\n",
       "      <td>220.152838</td>\n",
       "      <td>C</td>\n",
       "    </tr>\n",
       "    <tr>\n",
       "      <th>49</th>\n",
       "      <td>-56.514554</td>\n",
       "      <td>293.443304</td>\n",
       "      <td>B</td>\n",
       "    </tr>\n",
       "  </tbody>\n",
       "</table>\n",
       "</div>"
      ],
      "text/plain": [
       "         col1        col2 cat1\n",
       "40 -62.796177  228.943952    C\n",
       "41 -25.482309  246.768121    B\n",
       "42 -71.561148  261.938997    A\n",
       "43  15.932040  241.119048    A\n",
       "44 -49.122002  242.748645    A\n",
       "45  -8.747772  233.028467    C\n",
       "46 -43.828892  256.423182    A\n",
       "47 -22.993198  285.057453    B\n",
       "48 -20.328972  220.152838    C\n",
       "49 -56.514554  293.443304    B"
      ]
     },
     "execution_count": 16,
     "metadata": {},
     "output_type": "execute_result"
    }
   ],
   "source": [
    "import numpy as np# Create two DataFrames with random continuous columns\n",
    "import pandas as pd\n",
    "import gower\n",
    "np.random.seed(42)\n",
    "\n",
    "number_of_records = 10000\n",
    "\n",
    "df1 = pd.DataFrame({\n",
    "    'col1': np.random.uniform(-75, 25, number_of_records),\n",
    "    'col2': np.random.uniform(200, 300, number_of_records),\n",
    "    'cat1': np.random.choice(['A', 'B', 'C'], number_of_records)\n",
    "})\n",
    "\n",
    "df2 = pd.DataFrame({\n",
    "    'col1': np.random.uniform(-75, 25, number_of_records+1),\n",
    "    'col2': np.random.uniform(200, 300, number_of_records+1),\n",
    "    'cat1': np.random.choice(['A', 'B', 'C'], number_of_records+1)\n",
    "})\n",
    "#df1.loc[0, 'col1'] = np.nan\n",
    "# Display the first few rows of each DataFrame\n",
    "print(\"DataFrame 1:\")\n",
    "print(df1.head())\n",
    "print(\"\\nDataFrame 2:\")\n",
    "print(df2.head())\n",
    "df1[40:].head(10)"
   ]
  },
  {
   "cell_type": "code",
   "execution_count": 3,
   "metadata": {},
   "outputs": [
    {
     "data": {
      "text/html": [
       "<div>\n",
       "<style scoped>\n",
       "    .dataframe tbody tr th:only-of-type {\n",
       "        vertical-align: middle;\n",
       "    }\n",
       "\n",
       "    .dataframe tbody tr th {\n",
       "        vertical-align: top;\n",
       "    }\n",
       "\n",
       "    .dataframe thead th {\n",
       "        text-align: right;\n",
       "    }\n",
       "</style>\n",
       "<table border=\"1\" class=\"dataframe\">\n",
       "  <thead>\n",
       "    <tr style=\"text-align: right;\">\n",
       "      <th></th>\n",
       "      <th>col1</th>\n",
       "      <th>col2</th>\n",
       "      <th>cat1</th>\n",
       "    </tr>\n",
       "  </thead>\n",
       "  <tbody>\n",
       "    <tr>\n",
       "      <th>0</th>\n",
       "      <td>NaN</td>\n",
       "      <td>257.199588</td>\n",
       "      <td>B</td>\n",
       "    </tr>\n",
       "    <tr>\n",
       "      <th>1</th>\n",
       "      <td>NaN</td>\n",
       "      <td>280.543233</td>\n",
       "      <td>B</td>\n",
       "    </tr>\n",
       "    <tr>\n",
       "      <th>2</th>\n",
       "      <td>-1.800606</td>\n",
       "      <td>276.016093</td>\n",
       "      <td>B</td>\n",
       "    </tr>\n",
       "    <tr>\n",
       "      <th>3</th>\n",
       "      <td>-15.134152</td>\n",
       "      <td>215.389990</td>\n",
       "      <td>C</td>\n",
       "    </tr>\n",
       "    <tr>\n",
       "      <th>4</th>\n",
       "      <td>-59.398136</td>\n",
       "      <td>214.924947</td>\n",
       "      <td>A</td>\n",
       "    </tr>\n",
       "  </tbody>\n",
       "</table>\n",
       "</div>"
      ],
      "text/plain": [
       "        col1        col2 cat1\n",
       "0        NaN  257.199588    B\n",
       "1        NaN  280.543233    B\n",
       "2  -1.800606  276.016093    B\n",
       "3 -15.134152  215.389990    C\n",
       "4 -59.398136  214.924947    A"
      ]
     },
     "execution_count": 3,
     "metadata": {},
     "output_type": "execute_result"
    }
   ],
   "source": [
    "\n",
    "df1.loc[0, 'col1'] = None\n",
    "df1.loc[1, 'col1'] = np.nan\n",
    "df2.loc[0, 'col1'] = None\n",
    "df1.head()\n"
   ]
  },
  {
   "cell_type": "code",
   "execution_count": null,
   "metadata": {},
   "outputs": [],
   "source": []
  },
  {
   "cell_type": "code",
   "execution_count": null,
   "metadata": {},
   "outputs": [],
   "source": []
  },
  {
   "cell_type": "code",
   "execution_count": 4,
   "metadata": {},
   "outputs": [
    {
     "data": {
      "text/html": [
       "<div>\n",
       "<style scoped>\n",
       "    .dataframe tbody tr th:only-of-type {\n",
       "        vertical-align: middle;\n",
       "    }\n",
       "\n",
       "    .dataframe tbody tr th {\n",
       "        vertical-align: top;\n",
       "    }\n",
       "\n",
       "    .dataframe thead th {\n",
       "        text-align: right;\n",
       "    }\n",
       "</style>\n",
       "<table border=\"1\" class=\"dataframe\">\n",
       "  <thead>\n",
       "    <tr style=\"text-align: right;\">\n",
       "      <th></th>\n",
       "      <th>col1</th>\n",
       "      <th>col2</th>\n",
       "      <th>cat1</th>\n",
       "    </tr>\n",
       "  </thead>\n",
       "  <tbody>\n",
       "    <tr>\n",
       "      <th>0</th>\n",
       "      <td>NaN</td>\n",
       "      <td>262.482314</td>\n",
       "      <td>A</td>\n",
       "    </tr>\n",
       "    <tr>\n",
       "      <th>1</th>\n",
       "      <td>14.788338</td>\n",
       "      <td>298.808666</td>\n",
       "      <td>C</td>\n",
       "    </tr>\n",
       "    <tr>\n",
       "      <th>2</th>\n",
       "      <td>-50.742280</td>\n",
       "      <td>243.841886</td>\n",
       "      <td>A</td>\n",
       "    </tr>\n",
       "    <tr>\n",
       "      <th>3</th>\n",
       "      <td>-39.686221</td>\n",
       "      <td>206.625470</td>\n",
       "      <td>C</td>\n",
       "    </tr>\n",
       "    <tr>\n",
       "      <th>4</th>\n",
       "      <td>20.018071</td>\n",
       "      <td>295.700692</td>\n",
       "      <td>A</td>\n",
       "    </tr>\n",
       "  </tbody>\n",
       "</table>\n",
       "</div>"
      ],
      "text/plain": [
       "        col1        col2 cat1\n",
       "0        NaN  262.482314    A\n",
       "1  14.788338  298.808666    C\n",
       "2 -50.742280  243.841886    A\n",
       "3 -39.686221  206.625470    C\n",
       "4  20.018071  295.700692    A"
      ]
     },
     "execution_count": 4,
     "metadata": {},
     "output_type": "execute_result"
    }
   ],
   "source": [
    "df2.head()"
   ]
  },
  {
   "cell_type": "code",
   "execution_count": 45,
   "metadata": {},
   "outputs": [
    {
     "name": "stdout",
     "output_type": "stream",
     "text": [
      "0\n",
      "1000\n",
      "2000\n",
      "3000\n",
      "4000\n"
     ]
    }
   ],
   "source": [
    "from gower_mix import gower_distance_optimized,gower_distance_optimized2\n",
    "\n",
    "\n",
    "\n",
    "dist2 = gower_distance_optimized2(df1, df2)\n",
    "\n"
   ]
  },
  {
   "cell_type": "code",
   "execution_count": 46,
   "metadata": {},
   "outputs": [
    {
     "name": "stdout",
     "output_type": "stream",
     "text": [
      "ones finished\n",
      "duplicated Xs\n",
      "fixed Ys\n"
     ]
    }
   ],
   "source": [
    "dist = gower_distance_optimized(df1, df2)"
   ]
  },
  {
   "cell_type": "markdown",
   "metadata": {},
   "source": []
  },
  {
   "cell_type": "code",
   "execution_count": null,
   "metadata": {},
   "outputs": [
    {
     "name": "stdout",
     "output_type": "stream",
     "text": [
      "Smallest index in dist2: (np.int64(3870), np.int64(297))\n"
     ]
    }
   ],
   "source": [
    "smallest_index_dist2 = np.unravel_index(np.argmin(dist2, axis=None), dist2.shape)\n",
    "print(\"Smallest index in dist2:\", smallest_index_dist2)\n",
    "\n",
    "\n",
    "\n"
   ]
  },
  {
   "cell_type": "code",
   "execution_count": 43,
   "metadata": {},
   "outputs": [
    {
     "data": {
      "text/plain": [
       "col1    -35.474068\n",
       "col2    203.199446\n",
       "cat1             A\n",
       "Name: 3870, dtype: object"
      ]
     },
     "execution_count": 43,
     "metadata": {},
     "output_type": "execute_result"
    }
   ],
   "source": [
    "df1.iloc[3870,:]"
   ]
  },
  {
   "cell_type": "code",
   "execution_count": 44,
   "metadata": {},
   "outputs": [
    {
     "data": {
      "text/plain": [
       "col1     -35.47459\n",
       "col2    203.213087\n",
       "cat1             A\n",
       "Name: 297, dtype: object"
      ]
     },
     "execution_count": 44,
     "metadata": {},
     "output_type": "execute_result"
    }
   ],
   "source": [
    "df2.iloc[297,:]"
   ]
  },
  {
   "cell_type": "code",
   "execution_count": 27,
   "metadata": {},
   "outputs": [
    {
     "name": "stdout",
     "output_type": "stream",
     "text": [
      "Index of smallest distance: 3870\n"
     ]
    }
   ],
   "source": [
    "min_distance_sorted = np.sort(min_distance)\n",
    "smallest_index = np.argmin(min_distance)\n",
    "print(\"Index of smallest distance:\", smallest_index)"
   ]
  },
  {
   "cell_type": "code",
   "execution_count": null,
   "metadata": {},
   "outputs": [],
   "source": []
  },
  {
   "cell_type": "code",
   "execution_count": 7,
   "metadata": {},
   "outputs": [
    {
     "name": "stdout",
     "output_type": "stream",
     "text": [
      "Shape of Gower distance matrix: (4000, 4001)\n"
     ]
    }
   ],
   "source": [
    "# Compute Gower distance\n",
    "from gower import gower_matrix\n",
    "gower_distances = gower_matrix(df1, df2)\n",
    "\n",
    "# Display the shape of the resulting distance matrix\n",
    "print(\"Shape of Gower distance matrix:\", gower_distances.shape)"
   ]
  }
 ],
 "metadata": {
  "kernelspec": {
   "display_name": "Python 3",
   "language": "python",
   "name": "python3"
  },
  "language_info": {
   "codemirror_mode": {
    "name": "ipython",
    "version": 3
   },
   "file_extension": ".py",
   "mimetype": "text/x-python",
   "name": "python",
   "nbconvert_exporter": "python",
   "pygments_lexer": "ipython3",
   "version": "3.12.8"
  }
 },
 "nbformat": 4,
 "nbformat_minor": 2
}
